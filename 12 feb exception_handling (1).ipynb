{
 "cells": [
  {
   "cell_type": "code",
   "execution_count": 7,
   "id": "32407966-784d-4411-beb9-69fe729dab87",
   "metadata": {},
   "outputs": [],
   "source": [
    "# 1. what is exception in python"
   ]
  },
  {
   "cell_type": "code",
   "execution_count": 1,
   "id": "ca1e01d1-cdc7-4261-8696-6580a685f6cd",
   "metadata": {},
   "outputs": [],
   "source": [
    "# exception abnormally terminate the execution of program."
   ]
  },
  {
   "cell_type": "code",
   "execution_count": 6,
   "id": "8f88ca13-5436-4bac-8f08-a80d41a1d0a7",
   "metadata": {},
   "outputs": [
    {
     "ename": "SyntaxError",
     "evalue": "expected ':' (33643218.py, line 6)",
     "output_type": "error",
     "traceback": [
      "\u001b[0;36m  Cell \u001b[0;32mIn[6], line 6\u001b[0;36m\u001b[0m\n\u001b[0;31m    for i in l\u001b[0m\n\u001b[0m              ^\u001b[0m\n\u001b[0;31mSyntaxError\u001b[0m\u001b[0;31m:\u001b[0m expected ':'\n"
     ]
    }
   ],
   "source": [
    "# difference between execption and syntax error\n",
    "\n",
    "# error can not be handled ,e=while exception can be handled at run time \n",
    "# syntax error \n",
    "l=[1,2,3,4]\n",
    "for i in l\n",
    "    print(i)\n"
   ]
  },
  {
   "cell_type": "code",
   "execution_count": 8,
   "id": "0dc68252-e360-4147-a6f8-815e7884ef0e",
   "metadata": {},
   "outputs": [
    {
     "ename": "TypeError",
     "evalue": "unsupported operand type(s) for +: 'int' and 'str'",
     "output_type": "error",
     "traceback": [
      "\u001b[0;31m---------------------------------------------------------------------------\u001b[0m",
      "\u001b[0;31mTypeError\u001b[0m                                 Traceback (most recent call last)",
      "Cell \u001b[0;32mIn[8], line 4\u001b[0m\n\u001b[1;32m      2\u001b[0m a\u001b[38;5;241m=\u001b[39m\u001b[38;5;241m2\u001b[39m\n\u001b[1;32m      3\u001b[0m c\u001b[38;5;241m=\u001b[39m\u001b[38;5;124m'\u001b[39m\u001b[38;5;124mvikash\u001b[39m\u001b[38;5;124m'\u001b[39m\n\u001b[0;32m----> 4\u001b[0m \u001b[43ma\u001b[49m\u001b[38;5;241;43m+\u001b[39;49m\u001b[43mc\u001b[49m\n\u001b[1;32m      5\u001b[0m \u001b[38;5;66;03m# another execption error is zero division\u001b[39;00m\n\u001b[1;32m      6\u001b[0m a\u001b[38;5;241m=\u001b[39m\u001b[38;5;241m5\u001b[39m\n",
      "\u001b[0;31mTypeError\u001b[0m: unsupported operand type(s) for +: 'int' and 'str'"
     ]
    }
   ],
   "source": [
    "# exception error\n",
    "a=2\n",
    "c='vikash'\n",
    "a+c\n"
   ]
  },
  {
   "cell_type": "code",
   "execution_count": 9,
   "id": "99848e92-028d-44b6-802b-d524e7b821f2",
   "metadata": {},
   "outputs": [
    {
     "ename": "ZeroDivisionError",
     "evalue": "division by zero",
     "output_type": "error",
     "traceback": [
      "\u001b[0;31m---------------------------------------------------------------------------\u001b[0m",
      "\u001b[0;31mZeroDivisionError\u001b[0m                         Traceback (most recent call last)",
      "Cell \u001b[0;32mIn[9], line 3\u001b[0m\n\u001b[1;32m      1\u001b[0m \u001b[38;5;66;03m# another execption error is zero division\u001b[39;00m\n\u001b[1;32m      2\u001b[0m a\u001b[38;5;241m=\u001b[39m\u001b[38;5;241m5\u001b[39m\n\u001b[0;32m----> 3\u001b[0m c\u001b[38;5;241m=\u001b[39m\u001b[38;5;241;43m5\u001b[39;49m\u001b[38;5;241;43m/\u001b[39;49m\u001b[38;5;241;43m0\u001b[39;49m\n",
      "\u001b[0;31mZeroDivisionError\u001b[0m: division by zero"
     ]
    }
   ],
   "source": [
    "# another execption error is zero division\n",
    "a=5\n",
    "c=5/0"
   ]
  },
  {
   "cell_type": "code",
   "execution_count": 11,
   "id": "3355ed01-6626-4799-bfdf-6d9f28e827dd",
   "metadata": {},
   "outputs": [],
   "source": [
    "# question 2. what happen when an execption is not handle "
   ]
  },
  {
   "cell_type": "code",
   "execution_count": 2,
   "id": "c665ca50-0a3f-4f14-acdd-dee2db8802f1",
   "metadata": {},
   "outputs": [
    {
     "name": "stdout",
     "output_type": "stream",
     "text": [
      "finally will be execute whether execption are not handle\n"
     ]
    }
   ],
   "source": [
    "# there are four way to handle the exception \n",
    "# 1. try:\n",
    "# 2. Except:\n",
    "# 3. else:\n",
    "# 4. finally:\n",
    "# exception handle by Except ,if exception are not handle by except  , the exception \n",
    "# is re aised after the finally  clause has been excecuted.\n",
    "try:\n",
    "    f= open(\"test2.txt\",\"w\")\n",
    "    f.write(\"vikass\")\n",
    "finally :\n",
    "    print(\"finally will be execute whether execption are not handle\")"
   ]
  },
  {
   "cell_type": "code",
   "execution_count": 8,
   "id": "ae510b5b-2e38-4a65-a2e4-e7a2298098fb",
   "metadata": {},
   "outputs": [],
   "source": [
    "# question 3 what python statement are used to catch and handle exception"
   ]
  },
  {
   "cell_type": "code",
   "execution_count": 11,
   "id": "e7a563c2-ed4f-469e-9151-50f2e884c6dd",
   "metadata": {},
   "outputs": [
    {
     "name": "stdout",
     "output_type": "stream",
     "text": [
      "this is my code when program test\n"
     ]
    }
   ],
   "source": [
    "#try and except block are used to catch and handle the exception in statement .\n",
    "try:\n",
    "    f=open(\"text.txt\",\"r\")\n",
    "    f.write(\"vikash in file\")\n",
    "except :\n",
    "    print(\"this is my code when program test\")\n",
    "# in statement :\n",
    " # try clause contain the code that can raise an exception than the except clause \n",
    "#  handle the exception\n",
    "    \n"
   ]
  },
  {
   "cell_type": "code",
   "execution_count": 12,
   "id": "f2a35855-2321-407a-8627-dd6b7c6dca1e",
   "metadata": {},
   "outputs": [],
   "source": [
    "# explain 4. "
   ]
  },
  {
   "cell_type": "code",
   "execution_count": 14,
   "id": "ba416e3f-1004-4000-b4b8-f6d513ffc80b",
   "metadata": {},
   "outputs": [
    {
     "name": "stdout",
     "output_type": "stream",
     "text": [
      "this will be executed when your code will be execute without error\n"
     ]
    }
   ],
   "source": [
    "# try and else\n",
    "try:\n",
    "    f=open(\"text.txt\",\"w\")\n",
    "    f.write(\"vikash in file\")\n",
    "except Exception as a:\n",
    "    print(\"this is my code when program test\",a)\n",
    "else:    \n",
    "    f.close()\n",
    "    print(\"this will be executed when your code will be execute without error\")\n"
   ]
  },
  {
   "cell_type": "code",
   "execution_count": 16,
   "id": "a4a2e7b8-c34c-44c3-a731-8b9a446697f3",
   "metadata": {},
   "outputs": [
    {
     "name": "stdout",
     "output_type": "stream",
     "text": [
      "this is my code when program test not writable\n"
     ]
    }
   ],
   "source": [
    "try:\n",
    "    f=open(\"text.txt\",\"r\")\n",
    "    f.write(\"vikash in file\")\n",
    "except Exception as a:\n",
    "    print(\"this is my code when program test\",a)\n",
    "else:    \n",
    "    f.close()\n",
    "    print(\"this will be executed when your code will be execute without error\")"
   ]
  },
  {
   "cell_type": "code",
   "execution_count": 18,
   "id": "82d645da-70fb-44da-829b-f95a99db6cb1",
   "metadata": {},
   "outputs": [],
   "source": [
    "#  in given example we saw that when the  try clouse have no exception then the else clause will be\n",
    "#   execute otherwise not excecute "
   ]
  },
  {
   "cell_type": "code",
   "execution_count": 2,
   "id": "3031aa2f-84fd-4275-b929-03335de67979",
   "metadata": {},
   "outputs": [
    {
     "name": "stdout",
     "output_type": "stream",
     "text": [
      "finally will be execute anyway\n"
     ]
    }
   ],
   "source": [
    "# finally \n",
    "try:\n",
    "    f= open(\"test2.txt\",\"w\")\n",
    "    f.write(\"vikass\")\n",
    "finally :\n",
    "    print(\"finally will be execute anyway\")\n",
    "# finaly clause are always be excecuted whether any exception in try    \n"
   ]
  },
  {
   "cell_type": "code",
   "execution_count": 1,
   "id": "7713b5fc-0a31-45fc-9c62-08a64fb7f1f6",
   "metadata": {},
   "outputs": [],
   "source": [
    "# raise \n",
    "\n",
    "# raise keyword are used to raise an exception .you can define what \n",
    "# kind of exception and how its  handle\n",
    "def valid(age):\n",
    "    if age<0:\n",
    "        raise validage (\"enterend age is negative\")\n",
    "    elif age>200:\n",
    "        raise validage(\"entered age is very very high\")\n",
    "    else:\n",
    "        print (\"age is valid\")\n",
    "               \n",
    "# where if  age is less than 0 then  raise the exception and handle it by \n",
    "# raise validage (\"enterend age is negative\")"
   ]
  },
  {
   "cell_type": "code",
   "execution_count": 9,
   "id": "6873b8ea-bcfb-4701-9e32-d8f510e57b00",
   "metadata": {},
   "outputs": [],
   "source": [
    "# q 5. what are custom exception in phython"
   ]
  },
  {
   "cell_type": "code",
   "execution_count": 4,
   "id": "241842fa-57d7-418f-9da4-89df8f00778b",
   "metadata": {},
   "outputs": [
    {
     "name": "stdin",
     "output_type": "stream",
     "text": [
      "enter the age 154\n"
     ]
    },
    {
     "name": "stdout",
     "output_type": "stream",
     "text": [
      "enter age is:\n"
     ]
    }
   ],
   "source": [
    "# custom exception ; tailored to your specific use case and that you can raise and catch in specific circumstance\n",
    "# use of custom exception \n",
    "# can male your code more readable and robust and reduce the amount of code you write \n",
    "# later to try and figure out what exactly went wrong\n",
    "class validage(Exception):\n",
    "    def __init__(self,msg):\n",
    "        self.msg =msg\n",
    "def valid(age):\n",
    "    if age<0:\n",
    "        raise validage(\"enter the age is negtive\")\n",
    "        \n",
    "    elif age>200:\n",
    "        raise validage(\"enter age is so high\")\n",
    "    else:\n",
    "        raise validage (\"enter age is:\")\n",
    "try:\n",
    "    age = int (input(\"enter the age\"))\n",
    "    valid(age)\n",
    "except validage as e:\n",
    "    print(e)        "
   ]
  },
  {
   "cell_type": "code",
   "execution_count": 10,
   "id": "f61fb4e9-8394-496e-9ebd-28f8f2f610cc",
   "metadata": {},
   "outputs": [],
   "source": [
    "# 6. create a custom exception class"
   ]
  },
  {
   "cell_type": "code",
   "execution_count": 6,
   "id": "367bf512-7dfc-4217-9511-b341ef1c06cf",
   "metadata": {},
   "outputs": [
    {
     "name": "stdin",
     "output_type": "stream",
     "text": [
      "enter the age 54\n"
     ]
    },
    {
     "name": "stdout",
     "output_type": "stream",
     "text": [
      "enter age is valid:\n"
     ]
    }
   ],
   "source": [
    "class validage(Exception):\n",
    "    def __init__(self,msg):\n",
    "        self.msg =msg\n",
    "def valid(age):\n",
    "    if age<0:\n",
    "        raise validage(\"enter the age is negtive\")\n",
    "        \n",
    "    elif age>200:\n",
    "        raise validage(\"enter age is so high\")\n",
    "    else:\n",
    "        raise validage (\"enter age is valid:\")\n",
    "try:\n",
    "    age = int (input(\"enter the age\"))\n",
    "    valid(age)\n",
    "except validage as e:\n",
    "    print(e) "
   ]
  },
  {
   "cell_type": "code",
   "execution_count": null,
   "id": "4e70691c-fdf1-4f7d-bb24-1770bb5e9636",
   "metadata": {},
   "outputs": [],
   "source": []
  }
 ],
 "metadata": {
  "kernelspec": {
   "display_name": "Python 3 (ipykernel)",
   "language": "python",
   "name": "python3"
  },
  "language_info": {
   "codemirror_mode": {
    "name": "ipython",
    "version": 3
   },
   "file_extension": ".py",
   "mimetype": "text/x-python",
   "name": "python",
   "nbconvert_exporter": "python",
   "pygments_lexer": "ipython3",
   "version": "3.10.8"
  }
 },
 "nbformat": 4,
 "nbformat_minor": 5
}
